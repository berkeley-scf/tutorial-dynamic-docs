{
 "cells": [
  {
   "cell_type": "markdown",
   "metadata": {},
   "source": [
    "An example Jupyter notebook illustrating the use of bash code chunks."
   ]
  },
  {
   "cell_type": "markdown",
   "metadata": {},
   "source": [
    "# How to generate a document from this file\n",
    " You can create an HTML or PDF output file by simply selecting \n",
    " ```\n",
    " File -> Download as -> HTML (.html)\n",
    " ``` \n",
    " or \n",
    " ```\n",
    " File -> Download as -> PDF via LaTeX (.pdf)\n",
    " ```\n",
    "\n",
    "To generate a document from the command line, you can do the following:\n",
    "```\n",
    "jupyter nbconvert demo-bash.ipynb --to html  # for html\n",
    "jupyter nbconvert demo-bash.ipynb --to pdf   # for pdf\n",
    "```\n",
    "However, when creating PDF, some of the formatting may be messed up.\n"
   ]
  },
  {
   "cell_type": "markdown",
   "metadata": {},
   "source": [
    "\n",
    "\n",
    "# Some basic Markdown formatting\n",
    "\n",
    "Here's an *introduction* to our **critical** discovery. We have some code to display but not evaluate: `exp(7)`, and we can embed the code in a static code block as follows:\n",
    "```\n",
    "a = 7 %% 5\n",
    "b = exp(a)\n",
    "```\n",
    "\n",
    "This document will focus on embedding math and code and not on standard Markdown formatting. There are lots of sources of information on Markdown. \n"
   ]
  },
  {
   "cell_type": "markdown",
   "metadata": {},
   "source": [
    "# Embedding equations using LaTeX\n",
    "\n",
    "This can be done with the following syntax. \n",
    "\n",
    "Here is an inline equation $f(x) = \\int f(y, x) dy$.\n",
    "\n",
    "Here's a displayed equation\n",
    "$$\n",
    "f_\\theta(x) = \\int f_\\theta(y, x) dy.\n",
    "$$ \n"
   ]
  },
  {
   "cell_type": "markdown",
   "metadata": {},
   "source": [
    "# Embedding bash code\n",
    "You can run bash code, though the output appears all combined together, rather than interspersed with the command that generated it."
   ]
  },
  {
   "cell_type": "code",
   "execution_count": 16,
   "metadata": {},
   "outputs": [
    {
     "name": "stdout",
     "output_type": "stream",
     "text": [
      "total 32\n",
      "drwx--x--x  4 root root   4096 Jun  8  2021 \u001b[0m\u001b[01;34mcontainerd\u001b[0m/\n",
      "drwxr-xr-x  3 root root   4096 Jun  8  2021 \u001b[01;34mgoogle\u001b[0m/\n",
      "drwxr-xr-x  2 root root   4096 Jul 15  2021 \u001b[01;34mlibreoffice6.1\u001b[0m/\n",
      "drwxr-xr-x  3 root root   4096 Jun  8  2021 \u001b[01;34mmicrosoft\u001b[0m/\n",
      "drwxr-xr-x  4 root root   4096 Jun  8  2021 \u001b[01;34mmssql-tools\u001b[0m/\n",
      "drwxr-xr-x  4 1001 docker 4096 Jan 27 15:50 \u001b[01;34mquarto\u001b[0m/\n",
      "drwxr-xr-x 16 root root   4096 Jun  8  2021 \u001b[01;34mshiny-server\u001b[0m/\n",
      "drwxr-xr-x  5 root root   4096 Jun  8  2021 \u001b[01;34msublime_text\u001b[0m/\n",
      "Filesystem                           Size  Used Avail Use% Mounted on\n",
      "/dev/sda1                            120G   20G   94G  18% /\n",
      "udev                                 7.8G     0  7.8G   0% /dev\n",
      "tmpfs                                7.8G  399M  7.5G   5% /dev/shm\n",
      "tmpfs                                1.6G   15M  1.6G   1% /run\n",
      "tmpfs                                5.0M  4.0K  5.0M   1% /run/lock\n",
      "tmpfs                                7.8G     0  7.8G   0% /sys/fs/cgroup\n",
      "/dev/sda2                            240G   37G  191G  16% /var\n",
      "/dev/sda3                            240G  142G   86G  63% /var/tmp\n",
      "/dev/loop1                           142M  142M     0 100% /snap/chromium/1708\n",
      "/dev/loop0                           142M  142M     0 100% /snap/chromium/1691\n",
      "/dev/loop2                           165M  165M     0 100% /snap/gnome-3-28-1804/161\n",
      "/dev/loop4                            56M   56M     0 100% /snap/core18/2128\n",
      "/dev/loop7                            33M   33M     0 100% /snap/snapd/12704\n",
      "/dev/loop5                            66M   66M     0 100% /snap/gtk-common-themes/1515\n",
      "/dev/loop3                           163M  163M     0 100% /snap/gnome-3-28-1804/145\n",
      "/dev/loop6                            56M   56M     0 100% /snap/core18/2074\n",
      "/dev/loop8                            33M   33M     0 100% /snap/snapd/12883\n",
      "/dev/sda5                            286G  6.1G  265G   3% /tmp\n",
      "sauron.berkeley.edu:/pool0/accounts   12T  6.8T  4.9T  59% /accounts\n",
      "tmpfs                                1.6G   84K  1.6G   1% /run/user/3189\n",
      "sauron.berkeley.edu:/pool0/system    5.0T  3.8T  1.3T  76% /system\n",
      "oz.berkeley.edu:/pool0/scratch        84T   26T   58T  31% /scratch\n",
      "/tmp\n"
     ]
    }
   ],
   "source": [
    "cd /opt\n",
    "ls -l\n",
    "df -h\n",
    "cd /tmp\n",
    "pwd"
   ]
  },
  {
   "cell_type": "markdown",
   "metadata": {},
   "source": [
    "Later chunks have access to result from earlier chunks (i.e., state is preserved between chunks). "
   ]
  },
  {
   "cell_type": "code",
   "execution_count": 13,
   "metadata": {},
   "outputs": [
    {
     "name": "stdout",
     "output_type": "stream",
     "text": [
      "/tmp\n"
     ]
    }
   ],
   "source": [
    "pwd  # result is /tmp becauue state is preserved"
   ]
  },
  {
   "cell_type": "markdown",
   "metadata": {},
   "source": [
    "There is no facility for interspersing inline code and text."
   ]
  },
  {
   "cell_type": "markdown",
   "metadata": {},
   "source": [
    "\n",
    "# Reading code from an external file\n",
    "I'm not aware of a way to directly source code from an external file as the code in a code chunk.\n",
    "\n",
    "# Formatting of long lines of code and of output\n",
    "\n",
    "Long lines in the notebook will generally cause a horizontal scrollbar to appear. In the PDF and\n",
    "HTML output, long lines won’t generally overflow, but line breaks in HTML output may occur in\n",
    "awkward places."
   ]
  },
  {
   "cell_type": "code",
   "execution_count": null,
   "metadata": {},
   "outputs": [],
   "source": [
    "echo \"Statistics at UC Berkeley: We are a community engaged in research and education in probability and statistics. In addition to developing fundamental theory and methodology, we are actively\" > tmp.txt\n",
    "  \n",
    "echo \"Second try: Statistics at UC Berkeley: We are a community \\\n",
    "engaged in research and education in probability and statistics. \\\n",
    "In addition to developing fundamental theory and methodology, \\\n",
    "we are actively\" >> tmp.txt\n",
    "\n",
    "cat tmp.txt\n"
   ]
  },
  {
   "cell_type": "markdown",
   "metadata": {},
   "source": [
    "One does not need to manually format long code lines, as a horizontal scroll bar will appear. But you might want to."
   ]
  },
  {
   "cell_type": "code",
   "execution_count": null,
   "metadata": {},
   "outputs": [],
   "source": [
    "# Statistics at UC Berkeley: We are a community engaged in research and education in probability and statistics. In addition to developing fundamental theory and methodology, we are actively\n",
    "\n",
    "# Statistics at UC Berkeley: We are a community engaged in research and\n",
    "# education in probability and statistics. In addition to developing \n",
    "# fundamental theory and methodology, we are actively...\n"
   ]
  },
  {
   "cell_type": "markdown",
   "metadata": {},
   "source": [
    "# References\n",
    "\n",
    "It's possible to insert references and a bibliography into a Jupyter document, but we don't go into it here.\n"
   ]
  }
 ],
 "metadata": {
  "anaconda-cloud": {},
  "kernelspec": {
   "display_name": "Bash",
   "language": "bash",
   "name": "bash"
  },
  "language_info": {
   "codemirror_mode": "shell",
   "file_extension": ".sh",
   "mimetype": "text/x-sh",
   "name": "bash"
  }
 },
 "nbformat": 4,
 "nbformat_minor": 1
}
