{
 "cells": [
  {
   "cell_type": "markdown",
   "metadata": {},
   "source": [
    "An example Jupyter file\n",
    "=========\n",
    "Illustrating the use of bash code chunks\n",
    "------------------\n",
    "Christopher Paciorek\n",
    "August 2015"
   ]
  },
  {
   "cell_type": "markdown",
   "metadata": {},
   "source": [
    "# 1) How to generate a document from this file\n",
    " You can create an HTML or PDF output file by simply selecting \n",
    " ```\n",
    " File -> Download as -> HTML (.html)\n",
    " ``` \n",
    " or \n",
    " ```\n",
    " File -> Download as -> PDF via LaTeX (.pdf)\n",
    " ```\n",
    "\n",
    "To generate a document from the command line, you can do the following:\n",
    "```\n",
    "ipython nbconvert demo-bash.ipynb --to html  # for html\n",
    "ipython nbconvert demo-bash.ipynb --to pdf   # for pdf\n",
    "```\n",
    "However, when creating PDF, some of the formatting may be messed up.\n"
   ]
  },
  {
   "cell_type": "markdown",
   "metadata": {},
   "source": [
    "\n",
    "\n",
    "# 2) Some basic Markdown formatting\n",
    "\n",
    "Here's an *introduction* to our **critical** discovery. We have some code to display but not evaluate: `exp(7)`, and we can embed the code in a static code block as follows:\n",
    "```\n",
    "a = 7 %% 5\n",
    "b = exp(a)\n",
    "```\n",
    "\n",
    "This document will focus on embedding math and code and not on standard Markdown formatting. There are lots of sources of information on Markdown. \n"
   ]
  },
  {
   "cell_type": "markdown",
   "metadata": {},
   "source": [
    "# 3) Embedding equations using LaTeX\n",
    "\n",
    "This can be done with the following syntax. \n",
    "\n",
    "Here is an inline equation $f(x) = \\int f(y, x) dy$.\n",
    "\n",
    "Here's a displayed equation\n",
    "$$\n",
    "f_\\theta(x) = \\int f_\\theta(y, x) dy.\n",
    "$$ \n"
   ]
  },
  {
   "cell_type": "markdown",
   "metadata": {},
   "source": [
    "# 4) Embedding R code\n",
    "You can't directly embed code chunks from different languages in the same document. See *demo-R.ipynb*.\n",
    "\n",
    "# 5) Embedding bash code\n",
    "For some reason only some of the output from evaluating the code in this chunk is printed:\n"
   ]
  },
  {
   "cell_type": "code",
   "execution_count": 1,
   "metadata": {},
   "outputs": [
    {
     "name": "stdout",
     "output_type": "stream",
     "text": [
      "/tmp\r\n"
     ]
    }
   ],
   "source": [
    "ls -l\n",
    "df -h\n",
    "cd /tmp\n",
    "pwd"
   ]
  },
  {
   "cell_type": "code",
   "execution_count": 2,
   "metadata": {},
   "outputs": [
    {
     "name": "stdout",
     "output_type": "stream",
     "text": [
      "/tmp\r\n"
     ]
    }
   ],
   "source": [
    "pwd  # result would be /tmp if state were preserved"
   ]
  },
  {
   "cell_type": "markdown",
   "metadata": {},
   "source": [
    "To get all of the output, you may need to break up your code into chunks such that the output appears immediately following the code.\n",
    "\n",
    "Also note above that later chunks have access to result from earlier chunks (i.e., state is preserved between chunks). \n",
    "\n",
    "There is no facility for interspersing inline code and text."
   ]
  },
  {
   "cell_type": "markdown",
   "metadata": {},
   "source": [
    "\n",
    "# 6) Reading code from an external file\n",
    "I'm not aware of a way to directly source code from an external file as the code in a code chunk.\n",
    "\n",
    "# 7) Formatting of long lines of code and of output\n",
    "\n",
    "For PDF but not HTML output, lines may overflow, and for both PDF and HTML line breaks may occur in awkward places. bash allows us to use a backslash to break lines of code, which can be helpful for breaking up the code but doesn't help with the output from evaluating the code.\n",
    "\n"
   ]
  },
  {
   "cell_type": "code",
   "execution_count": 4,
   "metadata": {},
   "outputs": [
    {
     "name": "stdout",
     "output_type": "stream",
     "text": [
      "Statistics at UC Berkeley: We are a community engaged in research and education in probability and statistics. In addition to developing fundamental theory and methodology, we are actively\r\n",
      "Second try: Statistics at UC Berkeley: We are a community engaged in research and education in probability and statistics. In addition to developing fundamental theory and methodology, we are actively\r\n"
     ]
    }
   ],
   "source": [
    "echo \"Statistics at UC Berkeley: We are a community engaged in research and education in probability and statistics. In addition to developing fundamental theory and methodology, we are actively\" > tmp.txt\n",
    "  \n",
    "echo \"Second try: Statistics at UC Berkeley: We are a community \\\n",
    "engaged in research and education in probability and statistics. \\\n",
    "In addition to developing fundamental theory and methodology, \\\n",
    "we are actively\" >> tmp.txt\n",
    "\n",
    "cat tmp.txt\n"
   ]
  },
  {
   "cell_type": "markdown",
   "metadata": {},
   "source": [
    "One can also manually format long comments, though that doesn't seem necessary here."
   ]
  },
  {
   "cell_type": "code",
   "execution_count": 4,
   "metadata": {},
   "outputs": [
    {
     "name": "stdout",
     "output_type": "stream",
     "text": []
    }
   ],
   "source": [
    "# the following long comment line may be awkwardly broken\n",
    "# Statistics at UC Berkeley: We are a community engaged in research and education in probability and statistics. \n",
    "\n",
    "# instead manually break it:\n",
    "# Statistics at UC Berkeley: We are a community engaged in research\n",
    "# and education in probability and statistics. In addition \n",
    "# to developing fundamental theory and methodology, we are actively\n"
   ]
  },
  {
   "cell_type": "markdown",
   "metadata": {},
   "source": [
    "# 8) References\n",
    "\n",
    "It's possible to insert references and a bibliography into a Jupyter document but it's slightly involved so we won't go into it here.\n"
   ]
  }
 ],
 "metadata": {
  "anaconda-cloud": {},
  "kernelspec": {
   "display_name": "Bash",
   "language": "bash",
   "name": "bash"
  },
  "language_info": {
   "codemirror_mode": "shell",
   "file_extension": ".sh",
   "mimetype": "text/x-sh",
   "name": "bash"
  }
 },
 "nbformat": 4,
 "nbformat_minor": 1
}
