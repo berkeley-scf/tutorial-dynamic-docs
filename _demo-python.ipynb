{
 "cells": [
  {
   "cell_type": "markdown",
   "metadata": {},
   "source": [
    "This is an example Jupyter notebook, illustrating the use of Python code chunks."
   ]
  },
  {
   "cell_type": "markdown",
   "metadata": {},
   "source": [
    "# How to generate a document from this file\n",
    " You can create an HTML or PDF output file by simply selecting \n",
    " ```\n",
    " File -> Download as -> HTML (.html)\n",
    " ``` \n",
    " or \n",
    " ```\n",
    " File -> Download as -> PDF via LaTeX (.pdf)\n",
    " ```\n",
    "\n",
    "\n",
    "To generate a document from the command line, you can do the following:\n",
    "```\n",
    "jupyter nbconvert demo-python.ipynb --to html  # for html\n",
    "jupyter nbconvert demo-python.ipynb --to pdf   # for pdf\n",
    "```\n",
    "\n"
   ]
  },
  {
   "cell_type": "markdown",
   "metadata": {},
   "source": [
    "\n",
    "# Some basic Markdown formatting\n",
    "\n",
    "Here's an *introduction* to our **critical** discovery. We have some code to display but not evaluate: `exp(7)`, and we can embed the code in a static code block as follows:\n",
    "```\n",
    "a = 7 %% 5\n",
    "b = exp(a)\n",
    "```\n",
    "\n",
    "This document will focus on embedding math and code and not on standard Markdown formatting. There are lots of sources of information on Markdown. \n"
   ]
  },
  {
   "cell_type": "markdown",
   "metadata": {},
   "source": [
    "# Embedding equations using LaTeX\n",
    "\n",
    "This can be done with the following syntax. \n",
    "\n",
    "Here is an inline equation $f(x) = \\int f(y, x) dy$.\n",
    "\n",
    "Here's a displayed equation\n",
    "$$\n",
    "f_\\theta(x) = \\int f_\\theta(y, x) dy.\n",
    "$$ \n"
   ]
  },
  {
   "cell_type": "markdown",
   "metadata": {},
   "source": [
    "# Embedding Python code"
   ]
  },
  {
   "cell_type": "code",
   "execution_count": 7,
   "metadata": {},
   "outputs": [
    {
     "name": "stdout",
     "output_type": "stream",
     "text": [
      "15\n"
     ]
    },
    {
     "data": {
      "text/plain": [
       "3"
      ]
     },
     "execution_count": 7,
     "metadata": {},
     "output_type": "execute_result"
    }
   ],
   "source": [
    "import numpy as np\n",
    "x = np.array((3, 5, 7))\n",
    "print(x.sum())\n",
    "x.min()  "
   ]
  },
  {
   "cell_type": "code",
   "execution_count": 9,
   "metadata": {},
   "outputs": [
    {
     "name": "stdout",
     "output_type": "stream",
     "text": [
      "3\n"
     ]
    }
   ],
   "source": [
    "try:\n",
    "    print(x[0])\n",
    "except NameError:\n",
    "    print('x does not exist')"
   ]
  },
  {
   "cell_type": "markdown",
   "metadata": {},
   "source": [
    "Note above that output is not printed interspersed with the code, as one would generally want. So in some cases you may want to break up your code into chunks such that the output appears immediately following the code.\n",
    "\n",
    "Also note above that later chunks have access to result from earlier chunks (i.e., state is preserved between chunks). \n",
    "\n",
    "There is no facility for interspersing inline code and text."
   ]
  },
  {
   "cell_type": "markdown",
   "metadata": {},
   "source": [
    "# Embedding code from other languages\n",
    "You can embed code from other languages using `%%` magic commands. To see what is available, run `% lsmagic`."
   ]
  },
  {
   "cell_type": "code",
   "execution_count": 10,
   "metadata": {},
   "outputs": [
    {
     "name": "stdout",
     "output_type": "stream",
     "text": [
      "Hello from the shell.\n"
     ]
    }
   ],
   "source": [
    "%%bash\n",
    "echo \"Hello from the shell.\""
   ]
  },
  {
   "cell_type": "markdown",
   "metadata": {},
   "source": [
    "\n",
    "# Reading code from an external file\n",
    "I'm not aware of a way to directly source code from an external file as the code in a code chunk.\n",
    "\n",
    "# Formatting of long lines of code and of output\n",
    "\n",
    "Long lines in the notebook will generally cause a horizontal scrollbar to appear. In the PDF and HTML output, long lines won't generally overflow, but line breaks in HTML output may occur in awkward places.\n"
   ]
  },
  {
   "cell_type": "code",
   "execution_count": 1,
   "metadata": {
    "scrolled": true
   },
   "outputs": [
    {
     "name": "stdout",
     "output_type": "stream",
     "text": [
      "Statistics at UC Berkeley: We are a community engaged in research and education in probability and statistics. In addition to developing fundamental theory and methodology, we are actively\n",
      "{'lion': 'Simba', 'panda': None, 'whale': 'Moby', 'numAnimals': 3, 'bear': 'Yogi', 'killer whale': 'shamu', 'bunny:': 'bugs'}\n",
      "{'lion': 'Simba', 'panda': None, 'whale': 'Moby', 'numAnimals': 3, 'bear': 'Yogi', 'killer whale': 'shamu', 'bunny:': 'bugs'}\n"
     ]
    }
   ],
   "source": [
    "# A string\n",
    "b = \"Statistics at UC Berkeley: We are a community engaged in research and education in probability and statistics. In addition to developing fundamental theory and methodology, we are actively\"\n",
    "print(b)\n",
    "\n",
    "# A long code line:\n",
    "zoo = {\"lion\": \"Simba\", \"panda\": None, \"whale\": \"Moby\", \"numAnimals\": 3, \"bear\": \"Yogi\", \"killer whale\": \"shamu\", \"bunny:\": \"bugs\"}\n",
    "print(zoo)\n",
    "\n",
    "# We often want to manually break the code in meaningful places:\n",
    "zoo = {\"lion\": \"Simba\", \"panda\": None, \"whale\": \"Moby\", \n",
    "       \"numAnimals\": 3, \"bear\": \"Yogi\", \"killer whale\": \"shamu\", \n",
    "       \"bunny:\": \"bugs\"}\n",
    "print(zoo)\n",
    "\n",
    "# A long comment:\n",
    "# Statistics at UC Berkeley: We are a community engaged in research and education in probability and statistics. In addition to developing fundamental theory and methodology, we are actively\"\n",
    "\n",
    "# We may want to break the comment up manually:\n",
    "# Statistics at UC Berkeley: We are a community engaged in research and \n",
    "# education in probability and statistics. In addition to developing \n",
    "# fundamental theory and methodology, we are actively...\n",
    "\n"
   ]
  },
  {
   "cell_type": "markdown",
   "metadata": {},
   "source": [
    "# References\n",
    "\n",
    "It's possible to insert references and a bibliography into a Jupyter document, but we won't go into it here.\n"
   ]
  }
 ],
 "metadata": {
  "anaconda-cloud": {},
  "kernelspec": {
   "display_name": "Python 3.8",
   "language": "python",
   "name": "python3"
  },
  "language_info": {
   "codemirror_mode": {
    "name": "ipython",
    "version": 3
   },
   "file_extension": ".py",
   "mimetype": "text/x-python",
   "name": "python",
   "nbconvert_exporter": "python",
   "pygments_lexer": "ipython3",
   "version": "3.8.3"
  }
 },
 "nbformat": 4,
 "nbformat_minor": 1
}
